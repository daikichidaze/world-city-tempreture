{
 "cells": [
  {
   "cell_type": "code",
   "execution_count": 1,
   "metadata": {},
   "outputs": [],
   "source": [
    "import os\n",
    "import pandas as pd\n",
    "import numpy as np\n",
    "from glob import glob\n",
    "from datetime import datetime, timedelta   "
   ]
  },
  {
   "cell_type": "code",
   "execution_count": 2,
   "metadata": {},
   "outputs": [],
   "source": [
    "input_folder = '../data/bycity'"
   ]
  },
  {
   "cell_type": "code",
   "execution_count": 3,
   "metadata": {},
   "outputs": [],
   "source": [
    "year_set = set(datetime(2021,1,1) + timedelta(days=i) for i in range(365))"
   ]
  },
  {
   "cell_type": "code",
   "execution_count": 24,
   "metadata": {},
   "outputs": [],
   "source": [
    "cnt = 0\n",
    "for p in glob(os.path.join(input_folder, '*.csv')):\n",
    "    df = pd.read_csv(p, parse_dates=['date']).sort_values('date')\n",
    "    if 360 <= len(df):\n",
    "        cnt += 1"
   ]
  },
  {
   "cell_type": "code",
   "execution_count": 25,
   "metadata": {},
   "outputs": [
    {
     "data": {
      "text/plain": [
       "2983"
      ]
     },
     "execution_count": 25,
     "metadata": {},
     "output_type": "execute_result"
    }
   ],
   "source": [
    "cnt"
   ]
  },
  {
   "cell_type": "code",
   "execution_count": 5,
   "metadata": {},
   "outputs": [
    {
     "data": {
      "text/plain": [
       "[datetime.datetime(2021, 2, 27, 0, 0),\n",
       " datetime.datetime(2021, 4, 19, 0, 0),\n",
       " datetime.datetime(2021, 4, 28, 0, 0),\n",
       " datetime.datetime(2021, 6, 24, 0, 0),\n",
       " datetime.datetime(2021, 8, 21, 0, 0),\n",
       " datetime.datetime(2021, 8, 24, 0, 0),\n",
       " datetime.datetime(2021, 9, 1, 0, 0),\n",
       " datetime.datetime(2021, 9, 11, 0, 0),\n",
       " datetime.datetime(2021, 11, 26, 0, 0),\n",
       " datetime.datetime(2021, 12, 13, 0, 0),\n",
       " datetime.datetime(2021, 12, 16, 0, 0),\n",
       " datetime.datetime(2021, 12, 17, 0, 0),\n",
       " datetime.datetime(2021, 12, 18, 0, 0),\n",
       " datetime.datetime(2021, 12, 23, 0, 0),\n",
       " datetime.datetime(2021, 12, 27, 0, 0),\n",
       " datetime.datetime(2021, 12, 29, 0, 0),\n",
       " datetime.datetime(2021, 12, 30, 0, 0)]"
      ]
     },
     "execution_count": 5,
     "metadata": {},
     "output_type": "execute_result"
    }
   ],
   "source": [
    "miss_dates = year_set - set(df['date'])\n",
    "sorted(miss_dates)"
   ]
  },
  {
   "cell_type": "code",
   "execution_count": 9,
   "metadata": {},
   "outputs": [
    {
     "name": "stdout",
     "output_type": "stream",
     "text": [
      "2021-02-27 00:00:00\n",
      "2021-04-19 00:00:00\n",
      "2021-04-28 00:00:00\n",
      "2021-06-24 00:00:00\n",
      "2021-08-21 00:00:00\n",
      "2021-08-24 00:00:00\n",
      "2021-09-01 00:00:00\n",
      "2021-09-11 00:00:00\n",
      "2021-11-26 00:00:00\n",
      "2021-12-13 00:00:00\n",
      "2021-12-16 00:00:00\n",
      "2021-12-17 00:00:00\n",
      "2021-12-18 00:00:00\n",
      "2021-12-23 00:00:00\n",
      "2021-12-27 00:00:00\n",
      "2021-12-29 00:00:00\n",
      "2021-12-30 00:00:00\n"
     ]
    }
   ],
   "source": [
    "for d in sorted(miss_dates):\n",
    "    if d in set(df['date']):\n",
    "       print(d)\n",
    "       continue\n",
    "\n",
    "    front_last = df[df['date'] < d].iloc[-1]\n",
    "    back_first = df[d < df['date']].iloc[0]\n",
    "\n",
    "    missing_days = (back_first['date'] - front_last['date']).days - 1\n",
    "\n",
    "\n",
    "    df_add = pd.DataFrame()\n",
    "    df_add[['poi_id', 'poi_name', 'country_name', 'lat', 'long']] = \\\n",
    "      [front_last[['poi_id', 'poi_name', 'country_name', 'lat', 'long']].tolist()] * missing_days\n",
    "    for c in ['mean', 'max', 'min', 'precipitation']:\n",
    "        df_add[c] = np.linspace(front_last[c], back_first[c], missing_days+2)[1:-1]\n",
    "    df_add['date'] = [front_last['date'] + timedelta(days=i+1) for i in range(missing_days)]\n",
    "\n",
    "    df = df.append(df_add)\n",
    "    df.sort_values(by = 'date', ignore_index= True, inplace=True)\n"
   ]
  },
  {
   "cell_type": "code",
   "execution_count": 10,
   "metadata": {},
   "outputs": [
    {
     "data": {
      "text/plain": [
       "2021-01-01    1\n",
       "2021-09-09    1\n",
       "2021-09-07    1\n",
       "2021-09-06    1\n",
       "2021-09-05    1\n",
       "             ..\n",
       "2021-05-01    1\n",
       "2021-04-30    1\n",
       "2021-04-29    1\n",
       "2021-04-28    1\n",
       "2021-12-31    1\n",
       "Name: date, Length: 365, dtype: int64"
      ]
     },
     "execution_count": 10,
     "metadata": {},
     "output_type": "execute_result"
    }
   ],
   "source": [
    "df['date'].value_counts()"
   ]
  },
  {
   "cell_type": "code",
   "execution_count": 11,
   "metadata": {},
   "outputs": [
    {
     "data": {
      "text/html": [
       "<div>\n",
       "<style scoped>\n",
       "    .dataframe tbody tr th:only-of-type {\n",
       "        vertical-align: middle;\n",
       "    }\n",
       "\n",
       "    .dataframe tbody tr th {\n",
       "        vertical-align: top;\n",
       "    }\n",
       "\n",
       "    .dataframe thead th {\n",
       "        text-align: right;\n",
       "    }\n",
       "</style>\n",
       "<table border=\"1\" class=\"dataframe\">\n",
       "  <thead>\n",
       "    <tr style=\"text-align: right;\">\n",
       "      <th></th>\n",
       "      <th>poi_id</th>\n",
       "      <th>poi_name</th>\n",
       "      <th>country_name</th>\n",
       "      <th>lat</th>\n",
       "      <th>long</th>\n",
       "      <th>mean</th>\n",
       "      <th>max</th>\n",
       "      <th>min</th>\n",
       "      <th>precipitation</th>\n",
       "      <th>date</th>\n",
       "    </tr>\n",
       "  </thead>\n",
       "  <tbody>\n",
       "    <tr>\n",
       "      <th>0</th>\n",
       "      <td>98851</td>\n",
       "      <td>ヘネラルサントス</td>\n",
       "      <td>フィリピン</td>\n",
       "      <td>6.05</td>\n",
       "      <td>125.1</td>\n",
       "      <td>25.40</td>\n",
       "      <td>27.2</td>\n",
       "      <td>22.8</td>\n",
       "      <td>8.000000</td>\n",
       "      <td>2021-01-01</td>\n",
       "    </tr>\n",
       "    <tr>\n",
       "      <th>1</th>\n",
       "      <td>98851</td>\n",
       "      <td>ヘネラルサントス</td>\n",
       "      <td>フィリピン</td>\n",
       "      <td>6.05</td>\n",
       "      <td>125.1</td>\n",
       "      <td>26.50</td>\n",
       "      <td>31.7</td>\n",
       "      <td>22.5</td>\n",
       "      <td>1.000000</td>\n",
       "      <td>2021-01-02</td>\n",
       "    </tr>\n",
       "    <tr>\n",
       "      <th>2</th>\n",
       "      <td>98851</td>\n",
       "      <td>ヘネラルサントス</td>\n",
       "      <td>フィリピン</td>\n",
       "      <td>6.05</td>\n",
       "      <td>125.1</td>\n",
       "      <td>25.70</td>\n",
       "      <td>29.1</td>\n",
       "      <td>21.0</td>\n",
       "      <td>6.000000</td>\n",
       "      <td>2021-01-03</td>\n",
       "    </tr>\n",
       "    <tr>\n",
       "      <th>3</th>\n",
       "      <td>98851</td>\n",
       "      <td>ヘネラルサントス</td>\n",
       "      <td>フィリピン</td>\n",
       "      <td>6.05</td>\n",
       "      <td>125.1</td>\n",
       "      <td>25.60</td>\n",
       "      <td>29.0</td>\n",
       "      <td>22.5</td>\n",
       "      <td>14.000000</td>\n",
       "      <td>2021-01-04</td>\n",
       "    </tr>\n",
       "    <tr>\n",
       "      <th>4</th>\n",
       "      <td>98851</td>\n",
       "      <td>ヘネラルサントス</td>\n",
       "      <td>フィリピン</td>\n",
       "      <td>6.05</td>\n",
       "      <td>125.1</td>\n",
       "      <td>27.10</td>\n",
       "      <td>31.4</td>\n",
       "      <td>22.0</td>\n",
       "      <td>8.000000</td>\n",
       "      <td>2021-01-05</td>\n",
       "    </tr>\n",
       "    <tr>\n",
       "      <th>...</th>\n",
       "      <td>...</td>\n",
       "      <td>...</td>\n",
       "      <td>...</td>\n",
       "      <td>...</td>\n",
       "      <td>...</td>\n",
       "      <td>...</td>\n",
       "      <td>...</td>\n",
       "      <td>...</td>\n",
       "      <td>...</td>\n",
       "      <td>...</td>\n",
       "    </tr>\n",
       "    <tr>\n",
       "      <th>360</th>\n",
       "      <td>98851</td>\n",
       "      <td>ヘネラルサントス</td>\n",
       "      <td>フィリピン</td>\n",
       "      <td>6.05</td>\n",
       "      <td>125.1</td>\n",
       "      <td>25.85</td>\n",
       "      <td>29.8</td>\n",
       "      <td>22.2</td>\n",
       "      <td>0.000000</td>\n",
       "      <td>2021-12-27</td>\n",
       "    </tr>\n",
       "    <tr>\n",
       "      <th>361</th>\n",
       "      <td>98851</td>\n",
       "      <td>ヘネラルサントス</td>\n",
       "      <td>フィリピン</td>\n",
       "      <td>6.05</td>\n",
       "      <td>125.1</td>\n",
       "      <td>24.90</td>\n",
       "      <td>27.9</td>\n",
       "      <td>21.4</td>\n",
       "      <td>0.000000</td>\n",
       "      <td>2021-12-28</td>\n",
       "    </tr>\n",
       "    <tr>\n",
       "      <th>362</th>\n",
       "      <td>98851</td>\n",
       "      <td>ヘネラルサントス</td>\n",
       "      <td>フィリピン</td>\n",
       "      <td>6.05</td>\n",
       "      <td>125.1</td>\n",
       "      <td>25.20</td>\n",
       "      <td>28.5</td>\n",
       "      <td>22.0</td>\n",
       "      <td>1.666667</td>\n",
       "      <td>2021-12-29</td>\n",
       "    </tr>\n",
       "    <tr>\n",
       "      <th>363</th>\n",
       "      <td>98851</td>\n",
       "      <td>ヘネラルサントス</td>\n",
       "      <td>フィリピン</td>\n",
       "      <td>6.05</td>\n",
       "      <td>125.1</td>\n",
       "      <td>25.50</td>\n",
       "      <td>29.1</td>\n",
       "      <td>22.6</td>\n",
       "      <td>3.333333</td>\n",
       "      <td>2021-12-30</td>\n",
       "    </tr>\n",
       "    <tr>\n",
       "      <th>364</th>\n",
       "      <td>98851</td>\n",
       "      <td>ヘネラルサントス</td>\n",
       "      <td>フィリピン</td>\n",
       "      <td>6.05</td>\n",
       "      <td>125.1</td>\n",
       "      <td>25.80</td>\n",
       "      <td>29.7</td>\n",
       "      <td>23.2</td>\n",
       "      <td>5.000000</td>\n",
       "      <td>2021-12-31</td>\n",
       "    </tr>\n",
       "  </tbody>\n",
       "</table>\n",
       "<p>365 rows × 10 columns</p>\n",
       "</div>"
      ],
      "text/plain": [
       "    poi_id  poi_name country_name   lat   long   mean   max   min  \\\n",
       "0    98851  ヘネラルサントス        フィリピン  6.05  125.1  25.40  27.2  22.8   \n",
       "1    98851  ヘネラルサントス        フィリピン  6.05  125.1  26.50  31.7  22.5   \n",
       "2    98851  ヘネラルサントス        フィリピン  6.05  125.1  25.70  29.1  21.0   \n",
       "3    98851  ヘネラルサントス        フィリピン  6.05  125.1  25.60  29.0  22.5   \n",
       "4    98851  ヘネラルサントス        フィリピン  6.05  125.1  27.10  31.4  22.0   \n",
       "..     ...       ...          ...   ...    ...    ...   ...   ...   \n",
       "360  98851  ヘネラルサントス        フィリピン  6.05  125.1  25.85  29.8  22.2   \n",
       "361  98851  ヘネラルサントス        フィリピン  6.05  125.1  24.90  27.9  21.4   \n",
       "362  98851  ヘネラルサントス        フィリピン  6.05  125.1  25.20  28.5  22.0   \n",
       "363  98851  ヘネラルサントス        フィリピン  6.05  125.1  25.50  29.1  22.6   \n",
       "364  98851  ヘネラルサントス        フィリピン  6.05  125.1  25.80  29.7  23.2   \n",
       "\n",
       "     precipitation       date  \n",
       "0         8.000000 2021-01-01  \n",
       "1         1.000000 2021-01-02  \n",
       "2         6.000000 2021-01-03  \n",
       "3        14.000000 2021-01-04  \n",
       "4         8.000000 2021-01-05  \n",
       "..             ...        ...  \n",
       "360       0.000000 2021-12-27  \n",
       "361       0.000000 2021-12-28  \n",
       "362       1.666667 2021-12-29  \n",
       "363       3.333333 2021-12-30  \n",
       "364       5.000000 2021-12-31  \n",
       "\n",
       "[365 rows x 10 columns]"
      ]
     },
     "execution_count": 11,
     "metadata": {},
     "output_type": "execute_result"
    }
   ],
   "source": [
    "df"
   ]
  },
  {
   "cell_type": "code",
   "execution_count": 23,
   "metadata": {},
   "outputs": [
    {
     "data": {
      "image/png": "[encoded data removed]",
      "text/plain": [
       "<Figure size 432x288 with 1 Axes>"
      ]
     },
     "metadata": {
      "needs_background": "light"
     },
     "output_type": "display_data"
    }
   ],
   "source": [
    "import matplotlib.pyplot as plt\n",
    "plt.clf()\n",
    "for c in ['mean', 'max', 'min']:\n",
    "    plt.plot(df['date'],df[c], label=c)\n",
    "plt.legend()\n",
    "plt.ylabel('Temperature')\n",
    "plt.xlabel('Date')\n",
    "plt.show()\n"
   ]
  },
  {
   "cell_type": "code",
   "execution_count": 54,
   "metadata": {},
   "outputs": [
    {
     "data": {
      "text/plain": [
       "array([-6.2       , -5.36666667, -4.53333333, -3.7       ])"
      ]
     },
     "execution_count": 54,
     "metadata": {},
     "output_type": "execute_result"
    }
   ],
   "source": [
    "np.linspace(front_last['mean'], back_first['mean'], 4)"
   ]
  },
  {
   "cell_type": "code",
   "execution_count": 56,
   "metadata": {},
   "outputs": [
    {
     "data": {
      "text/plain": [
       "3"
      ]
     },
     "execution_count": 56,
     "metadata": {},
     "output_type": "execute_result"
    }
   ],
   "source": [
    "(back_first['date'] - front_last['date']).days"
   ]
  },
  {
   "cell_type": "code",
   "execution_count": 71,
   "metadata": {},
   "outputs": [],
   "source": [
    "df_add = pd.DataFrame()\n",
    "df_add[['poi_id', 'poi_name', 'country_name', 'lat', 'long']] = \\\n",
    "    [front_last[['poi_id', 'poi_name', 'country_name', 'lat', 'long']].tolist()] * 2\n",
    "for c in ['mean', 'max', 'min', 'precipitation']:\n",
    "    df_add[c] = np.linspace(front_last[c], back_first[c], 2+2)[1:-1]\n",
    "df_add['date'] = [front_last['date'] + timedelta(days=i+1) for i in range(2)]\n"
   ]
  },
  {
   "cell_type": "code",
   "execution_count": 72,
   "metadata": {},
   "outputs": [
    {
     "data": {
      "text/html": [
       "<div>\n",
       "<style scoped>\n",
       "    .dataframe tbody tr th:only-of-type {\n",
       "        vertical-align: middle;\n",
       "    }\n",
       "\n",
       "    .dataframe tbody tr th {\n",
       "        vertical-align: top;\n",
       "    }\n",
       "\n",
       "    .dataframe thead th {\n",
       "        text-align: right;\n",
       "    }\n",
       "</style>\n",
       "<table border=\"1\" class=\"dataframe\">\n",
       "  <thead>\n",
       "    <tr style=\"text-align: right;\">\n",
       "      <th></th>\n",
       "      <th>poi_id</th>\n",
       "      <th>poi_name</th>\n",
       "      <th>country_name</th>\n",
       "      <th>lat</th>\n",
       "      <th>long</th>\n",
       "      <th>mean</th>\n",
       "      <th>max</th>\n",
       "      <th>min</th>\n",
       "      <th>precipitation</th>\n",
       "      <th>date</th>\n",
       "    </tr>\n",
       "  </thead>\n",
       "  <tbody>\n",
       "    <tr>\n",
       "      <th>0</th>\n",
       "      <td>1052</td>\n",
       "      <td>ハンメルフェスト</td>\n",
       "      <td>ノルウェー</td>\n",
       "      <td>70.67</td>\n",
       "      <td>23.67</td>\n",
       "      <td>-5.366667</td>\n",
       "      <td>-3.766667</td>\n",
       "      <td>-8.033333</td>\n",
       "      <td>3.6</td>\n",
       "      <td>2021-12-22</td>\n",
       "    </tr>\n",
       "    <tr>\n",
       "      <th>1</th>\n",
       "      <td>1052</td>\n",
       "      <td>ハンメルフェスト</td>\n",
       "      <td>ノルウェー</td>\n",
       "      <td>70.67</td>\n",
       "      <td>23.67</td>\n",
       "      <td>-4.533333</td>\n",
       "      <td>-3.033333</td>\n",
       "      <td>-6.966667</td>\n",
       "      <td>7.2</td>\n",
       "      <td>2021-12-23</td>\n",
       "    </tr>\n",
       "  </tbody>\n",
       "</table>\n",
       "</div>"
      ],
      "text/plain": [
       "   poi_id  poi_name country_name    lat   long      mean       max       min  \\\n",
       "0    1052  ハンメルフェスト        ノルウェー  70.67  23.67 -5.366667 -3.766667 -8.033333   \n",
       "1    1052  ハンメルフェスト        ノルウェー  70.67  23.67 -4.533333 -3.033333 -6.966667   \n",
       "\n",
       "   precipitation       date  \n",
       "0            3.6 2021-12-22  \n",
       "1            7.2 2021-12-23  "
      ]
     },
     "execution_count": 72,
     "metadata": {},
     "output_type": "execute_result"
    }
   ],
   "source": [
    "df_add"
   ]
  },
  {
   "cell_type": "code",
   "execution_count": 66,
   "metadata": {},
   "outputs": [
    {
     "data": {
      "text/plain": [
       "[[1052, 'ハンメルフェスト', 'ノルウェー', 70.67, 23.67],\n",
       " [1052, 'ハンメルフェスト', 'ノルウェー', 70.67, 23.67]]"
      ]
     },
     "execution_count": 66,
     "metadata": {},
     "output_type": "execute_result"
    }
   ],
   "source": [
    "[front_last[['poi_id', 'poi_name', 'country_name', 'lat', 'long']].tolist()] * 2"
   ]
  },
  {
   "cell_type": "code",
   "execution_count": 121,
   "metadata": {},
   "outputs": [
    {
     "data": {
      "text/plain": [
       "365"
      ]
     },
     "execution_count": 121,
     "metadata": {},
     "output_type": "execute_result"
    }
   ],
   "source": [
    "len(df['date'].unique())"
   ]
  }
 ],
 "metadata": {
  "kernelspec": {
   "display_name": "Python 3.9.1 64-bit ('3.9.1')",
   "language": "python",
   "name": "python3"
  },
  "language_info": {
   "codemirror_mode": {
    "name": "ipython",
    "version": 3
   },
   "file_extension": ".py",
   "mimetype": "text/x-python",
   "name": "python",
   "nbconvert_exporter": "python",
   "pygments_lexer": "ipython3",
   "version": "3.9.1"
  },
  "orig_nbformat": 4,
  "vscode": {
   "interpreter": {
    "hash": "0421663078bc487ddb0c2eacb61a4f3e731ce650725af8088940eac4432cec90"
   }
  }
 },
 "nbformat": 4,
 "nbformat_minor": 2
}
