{
 "cells": [
  {
   "cell_type": "code",
   "execution_count": 58,
   "metadata": {},
   "outputs": [],
   "source": [
    "import csv\n",
    "import requests\n",
    "import pandas as pd\n",
    "from datetime import datetime, timedelta"
   ]
  },
  {
   "cell_type": "code",
   "execution_count": 59,
   "metadata": {},
   "outputs": [],
   "source": [
    "base_url = r'https://www.data.jma.go.jp/cpd/monitor/dailyview/all_download_d.php'"
   ]
  },
  {
   "cell_type": "code",
   "execution_count": 60,
   "metadata": {},
   "outputs": [],
   "source": [
    "generate_parameters = lambda d: f'?&y={d.year}&m={d.month}&d={d.day}'"
   ]
  },
  {
   "cell_type": "code",
   "execution_count": 61,
   "metadata": {},
   "outputs": [],
   "source": [
    "start_date = datetime(2021, 1, 1)"
   ]
  },
  {
   "cell_type": "code",
   "execution_count": 62,
   "metadata": {},
   "outputs": [
    {
     "data": {
      "text/plain": [
       "'https://www.data.jma.go.jp/cpd/monitor/dailyview/all_download_d.php?&y=2021&m=1&d=1'"
      ]
     },
     "execution_count": 62,
     "metadata": {},
     "output_type": "execute_result"
    }
   ],
   "source": [
    "base_url + generate_parameters(start_date)"
   ]
  },
  {
   "cell_type": "code",
   "execution_count": 118,
   "metadata": {},
   "outputs": [],
   "source": [
    "for i in range(3):\n",
    "    x = requests.get(base_url + generate_parameters(start_date))\n",
    "\n",
    "    \n",
    "    start_date = start_date + timedelta(days=1)\n",
    "    break"
   ]
  },
  {
   "cell_type": "code",
   "execution_count": 119,
   "metadata": {},
   "outputs": [],
   "source": [
    "csv_raw = csv.reader(x.text.splitlines())\n",
    "csv_list = list(csv_raw)\n",
    "columns = [r0 + r1 for r0, r1 in zip(csv_list[0], csv_list[1])]"
   ]
  },
  {
   "cell_type": "code",
   "execution_count": 120,
   "metadata": {},
   "outputs": [],
   "source": [
    "with open(f'../data/{start_date.strftime(\"%Y-%m-%d\")}.csv', 'w') as f:\n",
    "    writer = csv.writer(f, quotechar='\"')\n",
    "    writer.writerow(columns)\n",
    "    writer.writerows(csv_list[2:])"
   ]
  },
  {
   "cell_type": "code",
   "execution_count": 121,
   "metadata": {},
   "outputs": [],
   "source": [
    "df = pd.read_csv(f'../data/{start_date.strftime(\"%Y-%m-%d\")}.csv')"
   ]
  },
  {
   "cell_type": "code",
   "execution_count": 122,
   "metadata": {},
   "outputs": [
    {
     "data": {
      "text/html": [
       "<div>\n",
       "<style scoped>\n",
       "    .dataframe tbody tr th:only-of-type {\n",
       "        vertical-align: middle;\n",
       "    }\n",
       "\n",
       "    .dataframe tbody tr th {\n",
       "        vertical-align: top;\n",
       "    }\n",
       "\n",
       "    .dataframe thead th {\n",
       "        text-align: right;\n",
       "    }\n",
       "</style>\n",
       "<table border=\"1\" class=\"dataframe\">\n",
       "  <thead>\n",
       "    <tr style=\"text-align: right;\">\n",
       "      <th></th>\n",
       "      <th>地点番号</th>\n",
       "      <th>地点名</th>\n",
       "      <th>国名</th>\n",
       "      <th>緯度</th>\n",
       "      <th>経度</th>\n",
       "      <th>日平均気温(℃)</th>\n",
       "      <th>日最高気温(℃)</th>\n",
       "      <th>日最低気温(℃)</th>\n",
       "      <th>日降水量(mm)</th>\n",
       "    </tr>\n",
       "  </thead>\n",
       "  <tbody>\n",
       "    <tr>\n",
       "      <th>0</th>\n",
       "      <td>1001</td>\n",
       "      <td>ヤンマイエン島</td>\n",
       "      <td>ノルウェー</td>\n",
       "      <td>70.92</td>\n",
       "      <td>-8.67</td>\n",
       "      <td>-0.8</td>\n",
       "      <td>1.5</td>\n",
       "      <td>-6.6</td>\n",
       "      <td>3.9</td>\n",
       "    </tr>\n",
       "    <tr>\n",
       "      <th>1</th>\n",
       "      <td>1002</td>\n",
       "      <td>VERLEGENHUKEN</td>\n",
       "      <td>ノルウェー</td>\n",
       "      <td>80.05</td>\n",
       "      <td>16.25</td>\n",
       "      <td>1.0</td>\n",
       "      <td>2.2</td>\n",
       "      <td>0.4</td>\n",
       "      <td></td>\n",
       "    </tr>\n",
       "    <tr>\n",
       "      <th>2</th>\n",
       "      <td>1003</td>\n",
       "      <td>HORNSUND</td>\n",
       "      <td>ノルウェー</td>\n",
       "      <td>77.00</td>\n",
       "      <td>15.50</td>\n",
       "      <td>0.5</td>\n",
       "      <td>1.4</td>\n",
       "      <td>-0.8</td>\n",
       "      <td>2.0</td>\n",
       "    </tr>\n",
       "    <tr>\n",
       "      <th>3</th>\n",
       "      <td>1006</td>\n",
       "      <td>エドゲ島</td>\n",
       "      <td>ノルウェー</td>\n",
       "      <td>78.25</td>\n",
       "      <td>22.82</td>\n",
       "      <td>-1.4</td>\n",
       "      <td>-0.4</td>\n",
       "      <td>-2.6</td>\n",
       "      <td></td>\n",
       "    </tr>\n",
       "    <tr>\n",
       "      <th>4</th>\n",
       "      <td>1007</td>\n",
       "      <td>ニューオーレースン</td>\n",
       "      <td>ノルウェー</td>\n",
       "      <td>78.92</td>\n",
       "      <td>11.92</td>\n",
       "      <td>1.3</td>\n",
       "      <td>3.0</td>\n",
       "      <td>0.5</td>\n",
       "      <td>5.4</td>\n",
       "    </tr>\n",
       "    <tr>\n",
       "      <th>...</th>\n",
       "      <td>...</td>\n",
       "      <td>...</td>\n",
       "      <td>...</td>\n",
       "      <td>...</td>\n",
       "      <td>...</td>\n",
       "      <td>...</td>\n",
       "      <td>...</td>\n",
       "      <td>...</td>\n",
       "      <td>...</td>\n",
       "    </tr>\n",
       "    <tr>\n",
       "      <th>8162</th>\n",
       "      <td>98752</td>\n",
       "      <td>ブトゥアン</td>\n",
       "      <td>フィリピン</td>\n",
       "      <td>8.93</td>\n",
       "      <td>125.47</td>\n",
       "      <td>26.3</td>\n",
       "      <td>29.6</td>\n",
       "      <td>24.0</td>\n",
       "      <td>4.6</td>\n",
       "    </tr>\n",
       "    <tr>\n",
       "      <th>8163</th>\n",
       "      <td>98753</td>\n",
       "      <td>ダバオ</td>\n",
       "      <td>フィリピン</td>\n",
       "      <td>7.12</td>\n",
       "      <td>125.65</td>\n",
       "      <td>26.7</td>\n",
       "      <td>31.3</td>\n",
       "      <td>24.4</td>\n",
       "      <td>57.0</td>\n",
       "    </tr>\n",
       "    <tr>\n",
       "      <th>8164</th>\n",
       "      <td>98755</td>\n",
       "      <td>HINATUAN</td>\n",
       "      <td>フィリピン</td>\n",
       "      <td>8.35</td>\n",
       "      <td>126.33</td>\n",
       "      <td>26.2</td>\n",
       "      <td>29.2</td>\n",
       "      <td>23.7</td>\n",
       "      <td>40.0</td>\n",
       "    </tr>\n",
       "    <tr>\n",
       "      <th>8165</th>\n",
       "      <td>98836</td>\n",
       "      <td>サンボアンガ</td>\n",
       "      <td>フィリピン</td>\n",
       "      <td>6.92</td>\n",
       "      <td>122.05</td>\n",
       "      <td>27.8</td>\n",
       "      <td>33.0</td>\n",
       "      <td>24.4</td>\n",
       "      <td>0.0</td>\n",
       "    </tr>\n",
       "    <tr>\n",
       "      <th>8166</th>\n",
       "      <td>98851</td>\n",
       "      <td>ヘネラルサントス</td>\n",
       "      <td>フィリピン</td>\n",
       "      <td>6.05</td>\n",
       "      <td>125.10</td>\n",
       "      <td>26.5</td>\n",
       "      <td>31.7</td>\n",
       "      <td>22.5</td>\n",
       "      <td>1.0</td>\n",
       "    </tr>\n",
       "  </tbody>\n",
       "</table>\n",
       "<p>8167 rows × 9 columns</p>\n",
       "</div>"
      ],
      "text/plain": [
       "       地点番号            地点名     国名     緯度      経度 日平均気温(℃) 日最高気温(℃) 日最低気温(℃)  \\\n",
       "0      1001        ヤンマイエン島  ノルウェー  70.92   -8.67     -0.8      1.5     -6.6   \n",
       "1      1002  VERLEGENHUKEN  ノルウェー  80.05   16.25      1.0      2.2      0.4   \n",
       "2      1003       HORNSUND  ノルウェー  77.00   15.50      0.5      1.4     -0.8   \n",
       "3      1006           エドゲ島  ノルウェー  78.25   22.82     -1.4     -0.4     -2.6   \n",
       "4      1007      ニューオーレースン  ノルウェー  78.92   11.92      1.3      3.0      0.5   \n",
       "...     ...            ...    ...    ...     ...      ...      ...      ...   \n",
       "8162  98752          ブトゥアン  フィリピン   8.93  125.47     26.3     29.6     24.0   \n",
       "8163  98753            ダバオ  フィリピン   7.12  125.65     26.7     31.3     24.4   \n",
       "8164  98755       HINATUAN  フィリピン   8.35  126.33     26.2     29.2     23.7   \n",
       "8165  98836         サンボアンガ  フィリピン   6.92  122.05     27.8     33.0     24.4   \n",
       "8166  98851       ヘネラルサントス  フィリピン   6.05  125.10     26.5     31.7     22.5   \n",
       "\n",
       "     日降水量(mm)  \n",
       "0         3.9  \n",
       "1              \n",
       "2         2.0  \n",
       "3              \n",
       "4         5.4  \n",
       "...       ...  \n",
       "8162      4.6  \n",
       "8163     57.0  \n",
       "8164     40.0  \n",
       "8165      0.0  \n",
       "8166      1.0  \n",
       "\n",
       "[8167 rows x 9 columns]"
      ]
     },
     "execution_count": 122,
     "metadata": {},
     "output_type": "execute_result"
    }
   ],
   "source": [
    "df"
   ]
  },
  {
   "cell_type": "code",
   "execution_count": 96,
   "metadata": {},
   "outputs": [
    {
     "data": {
      "text/plain": [
       "476512"
      ]
     },
     "execution_count": 96,
     "metadata": {},
     "output_type": "execute_result"
    }
   ],
   "source": [
    "len(s)"
   ]
  },
  {
   "cell_type": "code",
   "execution_count": null,
   "metadata": {},
   "outputs": [],
   "source": []
  }
 ],
 "metadata": {
  "interpreter": {
   "hash": "0421663078bc487ddb0c2eacb61a4f3e731ce650725af8088940eac4432cec90"
  },
  "kernelspec": {
   "display_name": "Python 3.9.1 64-bit ('3.9.1')",
   "language": "python",
   "name": "python3"
  },
  "language_info": {
   "codemirror_mode": {
    "name": "ipython",
    "version": 3
   },
   "file_extension": ".py",
   "mimetype": "text/x-python",
   "name": "python",
   "nbconvert_exporter": "python",
   "pygments_lexer": "ipython3",
   "version": "3.9.1"
  },
  "orig_nbformat": 4
 },
 "nbformat": 4,
 "nbformat_minor": 2
}
